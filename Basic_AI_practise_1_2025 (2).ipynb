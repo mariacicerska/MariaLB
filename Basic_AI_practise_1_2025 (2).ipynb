{
  "cells": [
    {
      "cell_type": "markdown",
      "metadata": {
        "id": "UfI7FZudfGwv"
      },
      "source": [
        "# I. NumPy."
      ]
    },
    {
      "cell_type": "markdown",
      "metadata": {
        "id": "fQcvdlwdimQb"
      },
      "source": [
        "**Оцінювання даної роботи буде ураховувати якість Вашого коду та текстових відповідей. При наявності ЛИШЕ коду , робота оцінюватися НЕ БУДЕ.**  \n",
        "\n",
        "**Оформлення текстових відповідей повинно проводитися в текстових комірках ноутбука з використанням синтаксису [LaTeX](https://en.wikibooks.org/wiki/LaTeX/Basics) для оформлення тексту та формул.**\n",
        "\n",
        "**Роботи ідентифіковані як ІДЕНТИЧНІ одразу отримують 0 балів.**\n",
        "\n",
        "**При реалізації завдань потрібно використовувати методи з бібліотеки numpy та pandas.**\n",
        "\n",
        "**Рішення з циклами будуть оцінені в 0 балів.**"
      ]
    },
    {
      "cell_type": "markdown",
      "metadata": {
        "id": "XmA3PWg8fJxn"
      },
      "source": [
        "0. Імпортувати numpy загальноприйнятим способом."
      ]
    },
    {
      "cell_type": "code",
      "execution_count": 2,
      "metadata": {
        "id": "JUli5tR8eTXG"
      },
      "outputs": [],
      "source": [
        "import numpy as np"
      ]
    },
    {
      "cell_type": "markdown",
      "metadata": {
        "id": "fppWPwoFjTrl"
      },
      "source": [
        "1. Визначити список з оцінками студента(ки) за семестр. Використовуючи його, створити одновимірний масив numpy."
      ]
    },
    {
      "cell_type": "code",
      "execution_count": 3,
      "metadata": {
        "id": "cuvs9lNAjVoB"
      },
      "outputs": [
        {
          "name": "stdout",
          "output_type": "stream",
          "text": [
            "[3 4 5]\n"
          ]
        }
      ],
      "source": [
        "\n",
        "\n",
        "grades_array = np.array([3, 4, 5])\n",
        "print(grades_array)\n",
        "\n"
      ]
    },
    {
      "cell_type": "markdown",
      "metadata": {
        "id": "OGeLtAwcjcMB"
      },
      "source": [
        "2. Визначити список зі списками, де кожен рядок списку формально означає магазин, а кожна колонка - певний продукт (батон, яйця першої категорії, молоко та ковбаса), а елементами на пересічі є ціни на ці продукти відповідно. Використовуючи цей список, створити матрицю (двовимірний масив) numpy."
      ]
    },
    {
      "cell_type": "code",
      "execution_count": 4,
      "metadata": {
        "id": "zJ9kEAv5jcVo"
      },
      "outputs": [
        {
          "name": "stdout",
          "output_type": "stream",
          "text": [
            "[[ 12.5  40.   25.3 100. ]\n",
            " [ 13.   39.5  26.   98.5]\n",
            " [ 12.8  41.   25.   99. ]]\n"
          ]
        }
      ],
      "source": [
        "\n",
        "prices_shop = np.array([\n",
        "    [12.5, 40.0, 25.3, 100.0],\n",
        "    [13.0, 39.5, 26.0, 98.5],\n",
        "    [12.8, 41.0, 25.0, 99.0]])\n",
        "print(prices_shop)"
      ]
    },
    {
      "cell_type": "markdown",
      "metadata": {
        "id": "wK7wrEw2jcix"
      },
      "source": [
        "3. Отримайте тип даних значень з масивів завдань 2 та 3. Виведіть їх на екран."
      ]
    },
    {
      "cell_type": "code",
      "execution_count": 5,
      "metadata": {
        "id": "uDBL1x6vjcq9"
      },
      "outputs": [
        {
          "name": "stdout",
          "output_type": "stream",
          "text": [
            "int64\n",
            "float64\n"
          ]
        }
      ],
      "source": [
        "print(grades_array.dtype)\n",
        "print(prices_shop.dtype)\n"
      ]
    },
    {
      "cell_type": "markdown",
      "metadata": {
        "id": "nNhAgsC3jcyp"
      },
      "source": [
        "4. Отримайте форми (кортеж з кількістю рядків та колонок) масивів завдань 2 та 3. Виведіть їх на екран."
      ]
    },
    {
      "cell_type": "code",
      "execution_count": 6,
      "metadata": {
        "id": "Fi5oXTI8jc4-"
      },
      "outputs": [
        {
          "name": "stdout",
          "output_type": "stream",
          "text": [
            "(3,) (3, 4)\n"
          ]
        }
      ],
      "source": [
        "\n",
        "grades = np.array([3, 4, 5])\n",
        "prices = np.array([[12.5, 40.0, 25.3, 100.0], [13.0, 39.5, 26.0, 98.5], [12.8, 41.0, 25.0, 99.0]])\n",
        "print(grades.shape, prices.shape)\n"
      ]
    },
    {
      "cell_type": "markdown",
      "metadata": {
        "id": "bpY-N8QZjdW-"
      },
      "source": [
        "5. Створіть одновимірний масив за допомогою спеціальної функції numpy, який би відображав динаміку стабільно зростаючого (з рівними проміжками) прибутку з продажів  за тиждень, де у перший день не було продажів, а в останній день тижня вдалося заробити 1000 грн 50 коп."
      ]
    },
    {
      "cell_type": "code",
      "execution_count": 7,
      "metadata": {
        "id": "r3LcjnUKjdeu"
      },
      "outputs": [
        {
          "name": "stdout",
          "output_type": "stream",
          "text": [
            "[   0.    166.75  333.5   500.25  667.    833.75 1000.5 ]\n"
          ]
        }
      ],
      "source": [
        "sales = np.linspace(0, 1000.50, 7)\n",
        "print(sales)\n"
      ]
    },
    {
      "cell_type": "markdown",
      "metadata": {
        "id": "zQM0SY9jjebO"
      },
      "source": [
        "6. Створіть два масиви. Використовуючи їх, продемонструйте відмінність вертикального та горизонтального обʼєднання масивів."
      ]
    },
    {
      "cell_type": "code",
      "execution_count": 8,
      "metadata": {
        "id": "8uoi0_lxjeh-"
      },
      "outputs": [
        {
          "name": "stdout",
          "output_type": "stream",
          "text": [
            "[[  1   2   3   4]\n",
            " [228 229 230 231]]\n",
            "[  1   2   3   4 228 229 230 231]\n"
          ]
        }
      ],
      "source": [
        "\n",
        "arr_1 = np.array([1, 2, 3, 4])\n",
        "arr_2 = np.array([228, 229, 230, 231])\n",
        "vertical_stack = np.vstack((arr_1, arr_2))\n",
        "horizontal_stack = np.hstack((arr_1, arr_2))\n",
        "print(vertical_stack)\n",
        "print(horizontal_stack)"
      ]
    },
    {
      "cell_type": "markdown",
      "metadata": {
        "id": "Fwh5D1pDm3t7"
      },
      "source": [
        "7. Визначити функцію, яка приймає на вході масив і транспонує його. Скористайтесь методом reshape. І не забудьте почати з docstrings."
      ]
    },
    {
      "cell_type": "code",
      "execution_count": 28,
      "metadata": {
        "id": "FSWZq0mkm31Z"
      },
      "outputs": [
        {
          "name": "stdout",
          "output_type": "stream",
          "text": [
            "[[ 7  8]\n",
            " [ 9 17]\n",
            " [18 19]]\n",
            "[[ 2  4]\n",
            " [ 6  8]\n",
            " [10 12]\n",
            " [14 16]]\n"
          ]
        }
      ],
      "source": [
        "\n",
        "def reshape_array(arr):\n",
        "    \"\"\"\n",
        "    Переміщує заданий масив методом reshape.\n",
        "\n",
        "    Параметри:\n",
        "    arr (numpy.ndarray): Вхідний масив для транспонування.\n",
        "\n",
        "    Повертається:\n",
        "    numpy.ndarray: Транспонований масив.\n",
        "    \"\"\"\n",
        "    return arr.reshape(arr.shape[1], arr.shape[0])\n",
        "\n",
        "array1 = np.array([[7, 8, 9], [17, 18, 19]])\n",
        "print(reshape_array(array1))\n",
        "\n",
        "array2 = np.array([[2, 4, 6, 8], [10, 12, 14, 16]])\n",
        "print(reshape_array(array2))\n",
        "\n",
        "\n"
      ]
    },
    {
      "cell_type": "markdown",
      "metadata": {
        "id": "Nnxk8vqYm379"
      },
      "source": [
        "8. Створіть два масиви. Використовучи ці масиви, продемонструйте 1) операцію по-елементного додавання, 2) операцію по-елементного віднімання, 3) множення масиву на число, 4) операцію по-елементного множення, і 5) матричного множення."
      ]
    },
    {
      "cell_type": "code",
      "execution_count": 10,
      "metadata": {
        "id": "qO1rfvmVm4BI"
      },
      "outputs": [
        {
          "name": "stdout",
          "output_type": "stream",
          "text": [
            "[[14 13]\n",
            " [29 28]]\n",
            "[[ -6  -9]\n",
            " [-13 -16]]\n",
            "[[ 8  4]\n",
            " [16 12]]\n",
            "[[20 22]\n",
            " [42 44]]\n",
            "[[ 40  22]\n",
            " [168 132]]\n",
            "[[ 82  88]\n",
            " [206 220]]\n"
          ]
        }
      ],
      "source": [
        "arr_1 = np.array([[4, 2], [8, 6]])\n",
        "arr_2 = np.array([[10, 11], [21, 22]])\n",
        "#1\n",
        "addition = arr_1 + arr_2\n",
        "print(addition)\n",
        "#2\n",
        "subtraction = arr_1 - arr_2\n",
        "print(subtraction)\n",
        "#3\n",
        "mult_by_4_1 = arr_1 * 2\n",
        "mult_by_4_2 = arr_2 * 2\n",
        "print(mult_by_4_1)\n",
        "print(mult_by_4_2)\n",
        "#4\n",
        "multiplication = arr_1 * arr_2\n",
        "print(multiplication)\n",
        "#5\n",
        "matrix_multiplication = np.dot(arr_1, arr_2)\n",
        "print(matrix_multiplication)"
      ]
    },
    {
      "cell_type": "markdown",
      "metadata": {
        "id": "7aGdszTGuMCC"
      },
      "source": [
        "9. Створіть двовимірний масив (матрицю) та розрахуйте: 1) мінімальне число, 2) максимальне число, 3) суму чисел, 4) мінімальні числа для кожного рядка, 5) максимальні числа для кожного стовпчика."
      ]
    },
    {
      "cell_type": "code",
      "execution_count": 11,
      "metadata": {
        "id": "RL_39YdauMKS"
      },
      "outputs": [
        {
          "name": "stdout",
          "output_type": "stream",
          "text": [
            "1\n",
            "9\n",
            "45\n",
            "[1 4 7]\n",
            "[7 8 9]\n"
          ]
        }
      ],
      "source": [
        "matrix = np.array([[1, 2, 3], [4, 5, 6], [7, 8, 9]])\n",
        "#1)\n",
        "min = np.min(matrix)\n",
        "print(min)\n",
        "#2)\n",
        "max = np.max(matrix)\n",
        "print(max)\n",
        "#3)\n",
        "sum = np.sum(matrix)\n",
        "print(sum)\n",
        "#4)\n",
        "min_per_row = np.min(matrix, axis=1)\n",
        "print(min_per_row)\n",
        "#5)\n",
        "max_per_collumn = np.max(matrix, axis=0)\n",
        "print(max_per_collumn)"
      ]
    },
    {
      "cell_type": "markdown",
      "metadata": {
        "id": "c_hNdOpjHRFo"
      },
      "source": [
        "10. Створіть матрицю , де деякі елементи повторюються. Знайдіть унікальні значення елементів цієї матриці та їхні частоти."
      ]
    },
    {
      "cell_type": "code",
      "execution_count": 12,
      "metadata": {},
      "outputs": [
        {
          "name": "stdout",
          "output_type": "stream",
          "text": [
            "[1 2 3 4 5 6 7 8 9] [3 2 1 1 1 1 1 1 1]\n"
          ]
        }
      ],
      "source": [
        "matrix = np.array([[1, 2, 3, 4], [5, 2, 1, 6], [7, 8, 9, 1]])\n",
        "unique_elements, counts = np.unique(matrix, return_counts=True)\n",
        "print(unique_elements, counts)"
      ]
    },
    {
      "cell_type": "markdown",
      "metadata": {
        "id": "Usj7tyjnprEV"
      },
      "source": [
        "# II. Importing. Creating DF"
      ]
    },
    {
      "cell_type": "markdown",
      "metadata": {
        "id": "ePGNrYa6pxRY"
      },
      "source": [
        "0. Імпортувати бібліотеку pandas"
      ]
    },
    {
      "cell_type": "code",
      "execution_count": 13,
      "metadata": {
        "id": "KIPDNBqQpvkI"
      },
      "outputs": [],
      "source": [
        "import pandas as pd"
      ]
    },
    {
      "cell_type": "markdown",
      "metadata": {
        "id": "8g9-hgi5qWJv"
      },
      "source": [
        "11. Створити тестовий датафрейм зі списку, що містить записи пацієнтів про їхні прізвища, імена, дату народження, масу тіла та наявність медичного страхування. Одне зі значень зробить пустим. Ознайомтесь з типом кожної колонки."
      ]
    },
    {
      "cell_type": "code",
      "execution_count": 14,
      "metadata": {
        "id": "OvA4GvJ5qYb1"
      },
      "outputs": [
        {
          "name": "stdout",
          "output_type": "stream",
          "text": [
            "      Surname   Name Date of Birth Body weight Health insurance coverage\n",
            "0     Vynokur  Artur    10.08.2005      80.0kg                      None\n",
            "1  Shevchenko  Taras    30.05.1955      70.0kg                       Yes\n",
            "2    Petrenko    Den    02.05.2010      50.0kg                        No\n"
          ]
        }
      ],
      "source": [
        "patients = {\n",
        "    \"Surname\": [\"Vynokur\", \"Shevchenko\", \"Petrenko\"],\n",
        "    \"Name\": [\"Artur\", \"Taras\", \"Den\"],\n",
        "    \"Date of Birth\": [\"10.08.2005\", \"30.05.1955\", \"02.05.2010\"],\n",
        "    \"Body weight\": [\"80.0kg\", \"70.0kg\", \"50.0kg\"],\n",
        "    \"Health insurance coverage\": [None, \"Yes\", \"No\"] \n",
        "}\n",
        "patients_data_frame = pd.DataFrame(patients)\n",
        "print(patients_data_frame)"
      ]
    },
    {
      "cell_type": "code",
      "execution_count": 15,
      "metadata": {
        "id": "9ioPRVvxqcQ7"
      },
      "outputs": [
        {
          "name": "stdout",
          "output_type": "stream",
          "text": [
            "Surname                      object\n",
            "Name                         object\n",
            "Date of Birth                object\n",
            "Body weight                  object\n",
            "Health insurance coverage    object\n",
            "dtype: object\n"
          ]
        }
      ],
      "source": [
        "print(patients_data_frame.dtypes)"
      ]
    },
    {
      "cell_type": "markdown",
      "metadata": {
        "id": "b1SvVHjjqcv-"
      },
      "source": [
        "# III. Reading from file"
      ]
    },
    {
      "cell_type": "markdown",
      "metadata": {
        "id": "7HhZWLs_qhgq"
      },
      "source": [
        "12. Завантажити файл missile_attacks_daily.csv з [Kaggle](https://www.kaggle.com/datasets/piterfm/massive-missile-attacks-on-ukraine?select=missile_attacks_daily.csv). Ознайомитись з описом датасету. Додати файл до папки поточної сесії colab notebook на панелі ліворуч або на гугл диск (локально до проєкту, якщо працюєте у пайчармі). Зчитати датафрейм з файлу та вивести датафрейм на екран. Зверніть увагу на те, щоб всі колонки відповідали наведеним у описі типам даних."
      ]
    },
    {
      "cell_type": "code",
      "execution_count": 16,
      "metadata": {
        "id": "oQcB3kIqqg0h"
      },
      "outputs": [
        {
          "name": "stdout",
          "output_type": "stream",
          "text": [
            "         time_start          time_end           model  \\\n",
            "0  2025-01-25 19:00  2025-01-26 09:00  Shahed-136/131   \n",
            "1  2025-01-24 19:00  2025-01-25 09:30  Shahed-136/131   \n",
            "2  2025-01-24 18:30  2025-01-24 19:30       X-59/X-69   \n",
            "3  2025-01-23 21:00  2025-01-24 09:00  Shahed-136/131   \n",
            "4  2025-01-22 19:00  2025-01-23 09:30  Shahed-136/131   \n",
            "\n",
            "                                        launch_place        target carrier  \\\n",
            "0  Primorsko-Akhtarsk and Kursk oblast and Bryans...       Ukraine     NaN   \n",
            "1  Primorsko-Akhtarsk and Kursk oblast and Bryans...       Ukraine     NaN   \n",
            "2                                          Black Sea  Odesa oblast     NaN   \n",
            "3  Primorsko-Akhtarsk and Kursk oblast and Bryans...       Ukraine     NaN   \n",
            "4  Primorsko-Akhtarsk and Kursk oblast and Bryans...       Ukraine     NaN   \n",
            "\n",
            "   launched  destroyed  not_reach_goal  cross_border_belarus  back_russia  \\\n",
            "0      72.0         50             9.0                   NaN          NaN   \n",
            "1      61.0         46            15.0                   NaN          NaN   \n",
            "2       2.0          2             NaN                   NaN          NaN   \n",
            "3      58.0         25            27.0                   NaN          NaN   \n",
            "4      92.0         57            27.0                   NaN          NaN   \n",
            "\n",
            "   still_attacking                                  destroyed_details  \\\n",
            "0              1.0  {'Khmelnytskyi oblast': 12, 'Odesa oblast': 4,...   \n",
            "1              NaN  {'Khmelnytskyi oblast': 4, 'Odesa oblast': NaN...   \n",
            "2              NaN                                                NaN   \n",
            "3              NaN  {'Lviv oblast and Khmelnytskyi oblast': 9, 'Su...   \n",
            "4              3.0  {'Mykolaiv oblast and Kherson oblast': 12, 'Su...   \n",
            "\n",
            "  launched_details launch_place_details  \\\n",
            "0              NaN                  NaN   \n",
            "1              NaN                  NaN   \n",
            "2              NaN                  NaN   \n",
            "3              NaN                  NaN   \n",
            "4              NaN                  NaN   \n",
            "\n",
            "                                              source  \n",
            "0  kpszsu/posts/pfbid029aBrTrQjRGnpt3rGXRF331eowP...  \n",
            "1  kpszsu/posts/pfbid02CncG3LTpU6YEX2vwpHerqBJ7So...  \n",
            "2  kpszsu/posts/pfbid02CncG3LTpU6YEX2vwpHerqBJ7So...  \n",
            "3  kpszsu/posts/pfbid07KFB5c6v4JxyQ1cNvcNtRr9Tcxm...  \n",
            "4  kpszsu/posts/pfbid0AUPZB1WmFhHKmkwVk8BYVCw7gJa...  \n"
          ]
        }
      ],
      "source": [
        "\n",
        "file_path = r\"C:\\Users\\Artur\\OneDrive\\Робочий стіл\\labs python\\lab1\\missile_attacks_daily.csv\"\n",
        "missile_data = pd.read_csv(file_path)\n",
        "print(missile_data.head())\n"
      ]
    },
    {
      "cell_type": "markdown",
      "metadata": {
        "id": "89zu0WNErzd2"
      },
      "source": [
        "# IV. Data understanding"
      ]
    },
    {
      "cell_type": "markdown",
      "metadata": {
        "id": "LJqrTfHr2d1G"
      },
      "source": [
        "13. Виведіть на екран перші 10 рядків зчитаного датафрейму."
      ]
    },
    {
      "cell_type": "code",
      "execution_count": 17,
      "metadata": {
        "id": "GdVE9WYwr1sD"
      },
      "outputs": [
        {
          "name": "stdout",
          "output_type": "stream",
          "text": [
            "         time_start          time_end             model  \\\n",
            "0  2025-01-25 19:00  2025-01-26 09:00    Shahed-136/131   \n",
            "1  2025-01-24 19:00  2025-01-25 09:30    Shahed-136/131   \n",
            "2  2025-01-24 18:30  2025-01-24 19:30         X-59/X-69   \n",
            "3  2025-01-23 21:00  2025-01-24 09:00    Shahed-136/131   \n",
            "4  2025-01-22 19:00  2025-01-23 09:30    Shahed-136/131   \n",
            "5  2025-01-23 04:00  2025-01-23 04:30  Iskander-M/KN-23   \n",
            "6  2025-01-21 19:00  2025-01-22 10:00    Shahed-136/131   \n",
            "7  2025-01-20 20:00  2025-01-21 09:00    Shahed-136/131   \n",
            "8  2025-01-20 20:00  2025-01-21 09:00        Iskander-M   \n",
            "9  2025-01-19 19:00  2025-01-20 08:00    Shahed-136/131   \n",
            "\n",
            "                                        launch_place        target carrier  \\\n",
            "0  Primorsko-Akhtarsk and Kursk oblast and Bryans...       Ukraine     NaN   \n",
            "1  Primorsko-Akhtarsk and Kursk oblast and Bryans...       Ukraine     NaN   \n",
            "2                                          Black Sea  Odesa oblast     NaN   \n",
            "3  Primorsko-Akhtarsk and Kursk oblast and Bryans...       Ukraine     NaN   \n",
            "4  Primorsko-Akhtarsk and Kursk oblast and Bryans...       Ukraine     NaN   \n",
            "5                                    Voronezh oblast  Zaporizhzhia     NaN   \n",
            "6  Primorsko-Akhtarsk and Crimea and Bryansk obla...       Ukraine     NaN   \n",
            "7  Primorsko-Akhtarsk and Oryol oblast and Millerovo       Ukraine     NaN   \n",
            "8                                    Voronezh oblast       Ukraine     NaN   \n",
            "9  Primorsko-Akhtarsk and Kursk oblast and Bryans...       Ukraine     NaN   \n",
            "\n",
            "   launched  destroyed  not_reach_goal  cross_border_belarus  back_russia  \\\n",
            "0      72.0         50             9.0                   NaN          NaN   \n",
            "1      61.0         46            15.0                   NaN          NaN   \n",
            "2       2.0          2             NaN                   NaN          NaN   \n",
            "3      58.0         25            27.0                   NaN          NaN   \n",
            "4      92.0         57            27.0                   NaN          NaN   \n",
            "5       4.0          0             NaN                   NaN          NaN   \n",
            "6      99.0         65            30.0                   NaN          NaN   \n",
            "7     131.0         72            59.0                   NaN          NaN   \n",
            "8       4.0          0             NaN                   NaN          NaN   \n",
            "9     141.0         93            45.0                   NaN          2.0   \n",
            "\n",
            "   still_attacking                                  destroyed_details  \\\n",
            "0              1.0  {'Khmelnytskyi oblast': 12, 'Odesa oblast': 4,...   \n",
            "1              NaN  {'Khmelnytskyi oblast': 4, 'Odesa oblast': NaN...   \n",
            "2              NaN                                                NaN   \n",
            "3              NaN  {'Lviv oblast and Khmelnytskyi oblast': 9, 'Su...   \n",
            "4              3.0  {'Mykolaiv oblast and Kherson oblast': 12, 'Su...   \n",
            "5              NaN                                                NaN   \n",
            "6              NaN  {'Odesa oblast and Mykolaiv oblast': 13, 'Khme...   \n",
            "7              NaN  {'Odesa oblast and Mykolaiv oblast': 10, 'Khme...   \n",
            "8              NaN                                                NaN   \n",
            "9              NaN  {'Mykolaiv oblast and Kherson oblast': 3, 'Khm...   \n",
            "\n",
            "  launched_details launch_place_details  \\\n",
            "0              NaN                  NaN   \n",
            "1              NaN                  NaN   \n",
            "2              NaN                  NaN   \n",
            "3              NaN                  NaN   \n",
            "4              NaN                  NaN   \n",
            "5              NaN                  NaN   \n",
            "6              NaN                  NaN   \n",
            "7              NaN                  NaN   \n",
            "8              NaN                  NaN   \n",
            "9              NaN                  NaN   \n",
            "\n",
            "                                              source  \n",
            "0  kpszsu/posts/pfbid029aBrTrQjRGnpt3rGXRF331eowP...  \n",
            "1  kpszsu/posts/pfbid02CncG3LTpU6YEX2vwpHerqBJ7So...  \n",
            "2  kpszsu/posts/pfbid02CncG3LTpU6YEX2vwpHerqBJ7So...  \n",
            "3  kpszsu/posts/pfbid07KFB5c6v4JxyQ1cNvcNtRr9Tcxm...  \n",
            "4  kpszsu/posts/pfbid0AUPZB1WmFhHKmkwVk8BYVCw7gJa...  \n",
            "5  kpszsu/posts/pfbid0AUPZB1WmFhHKmkwVk8BYVCw7gJa...  \n",
            "6  kpszsu/posts/pfbid0SddWy51WgWJVTpdGFLQbt4V1U9D...  \n",
            "7  kpszsu/posts/pfbid0Dva3Yo2MSNjq45qSwvrvTjk3qFV...  \n",
            "8  kpszsu/posts/pfbid0Dva3Yo2MSNjq45qSwvrvTjk3qFV...  \n",
            "9  kpszsu/posts/pfbid02U5W3Bnpxin2MbKE9mBMnwmtmyD...  \n"
          ]
        }
      ],
      "source": [
        "print(missile_data.head(10))"
      ]
    },
    {
      "cell_type": "markdown",
      "metadata": {
        "id": "1PtkLHWj2lq0"
      },
      "source": [
        "14. Отримайте інформацію про форму датафрейму."
      ]
    },
    {
      "cell_type": "code",
      "execution_count": 18,
      "metadata": {
        "id": "CBPTYTjV2mtG"
      },
      "outputs": [
        {
          "name": "stdout",
          "output_type": "stream",
          "text": [
            "Dataframe: (2056, 16)\n"
          ]
        }
      ],
      "source": [
        "print(\"Dataframe:\", missile_data.shape)"
      ]
    },
    {
      "cell_type": "markdown",
      "metadata": {
        "id": "GDVcFC6F2yVz"
      },
      "source": [
        "15. Отримайте дані про кожну колонку з її назвою, типом даних та кількістю непустих значень."
      ]
    },
    {
      "cell_type": "code",
      "execution_count": 19,
      "metadata": {
        "id": "GTRgfKJ920bn"
      },
      "outputs": [
        {
          "name": "stdout",
          "output_type": "stream",
          "text": [
            "<class 'pandas.core.frame.DataFrame'>\n",
            "RangeIndex: 2056 entries, 0 to 2055\n",
            "Data columns (total 16 columns):\n",
            " #   Column                Non-Null Count  Dtype  \n",
            "---  ------                --------------  -----  \n",
            " 0   time_start            2056 non-null   object \n",
            " 1   time_end              2056 non-null   object \n",
            " 2   model                 2056 non-null   object \n",
            " 3   launch_place          1034 non-null   object \n",
            " 4   target                2028 non-null   object \n",
            " 5   carrier               225 non-null    object \n",
            " 6   launched              2053 non-null   float64\n",
            " 7   destroyed             2056 non-null   int64  \n",
            " 8   not_reach_goal        164 non-null    float64\n",
            " 9   cross_border_belarus  32 non-null     float64\n",
            " 10  back_russia           35 non-null     float64\n",
            " 11  still_attacking       30 non-null     float64\n",
            " 12  destroyed_details     301 non-null    object \n",
            " 13  launched_details      4 non-null      object \n",
            " 14  launch_place_details  4 non-null      object \n",
            " 15  source                2056 non-null   object \n",
            "dtypes: float64(5), int64(1), object(10)\n",
            "memory usage: 257.1+ KB\n",
            "None\n"
          ]
        }
      ],
      "source": [
        "print(missile_data.info()) "
      ]
    },
    {
      "cell_type": "markdown",
      "metadata": {
        "id": "DEy-hgsw2452"
      },
      "source": [
        "16. Отримайте статистику для колонок числового типу."
      ]
    },
    {
      "cell_type": "code",
      "execution_count": 20,
      "metadata": {
        "id": "94mI2N9t267Q"
      },
      "outputs": [
        {
          "name": "stdout",
          "output_type": "stream",
          "text": [
            "          launched    destroyed  not_reach_goal  cross_border_belarus  \\\n",
            "count  2053.000000  2056.000000      164.000000             32.000000   \n",
            "mean     10.872382     7.647860       21.231707              2.312500   \n",
            "std      21.605295    14.506397       19.812804              2.054696   \n",
            "min       1.000000     0.000000        1.000000              1.000000   \n",
            "25%       1.000000     1.000000        4.000000              1.000000   \n",
            "50%       2.000000     1.000000       16.000000              2.000000   \n",
            "75%       9.000000     7.000000       30.000000              2.000000   \n",
            "max     193.000000    99.000000      105.000000             10.000000   \n",
            "\n",
            "       back_russia  still_attacking  \n",
            "count    35.000000        30.000000  \n",
            "mean      2.000000         2.766667  \n",
            "std       1.137593         2.848876  \n",
            "min       1.000000         1.000000  \n",
            "25%       1.000000         1.000000  \n",
            "50%       2.000000         1.000000  \n",
            "75%       3.000000         3.750000  \n",
            "max       5.000000        10.000000  \n"
          ]
        }
      ],
      "source": [
        "\n",
        "numeric_stats = missile_data.describe()\n",
        "print(numeric_stats)\n"
      ]
    },
    {
      "cell_type": "markdown",
      "metadata": {
        "id": "n0MGJU2C2-iD"
      },
      "source": [
        "17. Отримати кількість унікальних значень у кожній колонці. Вивести на екран значення та кількість цих значень у колонці, яка має найменше унікальних значень."
      ]
    },
    {
      "cell_type": "code",
      "execution_count": 21,
      "metadata": {
        "id": "lQh_jdGe3BK5"
      },
      "outputs": [
        {
          "name": "stdout",
          "output_type": "stream",
          "text": [
            "time_start               874\n",
            "time_end                1025\n",
            "model                     61\n",
            "launch_place             136\n",
            "target                    97\n",
            "carrier                   58\n",
            "launched                 117\n",
            "destroyed                 83\n",
            "not_reach_goal            56\n",
            "cross_border_belarus       7\n",
            "back_russia                5\n",
            "still_attacking            8\n",
            "destroyed_details        297\n",
            "launched_details           4\n",
            "launch_place_details       4\n",
            "source                   968\n",
            "dtype: int64\n",
            "\n",
            " 'launched_details'\n",
            "unique: 4\n",
            "launched_details\n",
            "{'X-101/X-555': 50, 'Kalibr': 12}                     1\n",
            "{'X-101/X-555': 55, 'Kalibr': 24, 'Iskander-K': 7}    1\n",
            "{'X-101/X-555': 57, 'Kalibr': 28}                     1\n",
            "{'X-101/X-555': 77, 'Kalibr': 28, 'X-59/X-69': 10}    1\n",
            "Name: count, dtype: int64\n"
          ]
        }
      ],
      "source": [
        "unique_counts = missile_data.nunique()\n",
        "column_with_min_unique = unique_counts.idxmin()\n",
        "min_unique_count = unique_counts.min()\n",
        "print(unique_counts)\n",
        "print(f\"\\n '{column_with_min_unique}'\")\n",
        "print(f\"unique: {min_unique_count}\")\n",
        "print(missile_data[column_with_min_unique].value_counts())"
      ]
    },
    {
      "cell_type": "code",
      "execution_count": null,
      "metadata": {
        "id": "BlAeyE2q3tgd"
      },
      "outputs": [],
      "source": [
        "### Аналіз кількості унікальних значень у стовпцях\n",
        "\n",
        "# 1. Кількість унікальних значень у кожному стовпці:\n",
        "# unique_counts[i] = кількість унікальних елементів у стовпці i\n",
        "\n",
        "# 2. Стовпець із найменшою кількістю унікальних значень:\n",
        "# column_with_min_unique = argmin(unique_counts[i])\n",
        "\n",
        "# 3. Мінімальна кількість унікальних значень:\n",
        "# min_unique_count = min(unique_counts[i])\n",
        "\n",
        "# 4. Частоти значень у стовпці з найменшою кількістю унікальних значень:\n",
        "# missile_data[i].value_counts() = {значення: кількість появ}\n"
      ]
    },
    {
      "cell_type": "markdown",
      "metadata": {
        "id": "iVRkzUti3uC_"
      },
      "source": [
        "18. На основі отриманої інформації про датасет вище, опишіть по пунктах, що б ви виправили або на що б звернули увагу на кроці очищення даних і чому?"
      ]
    },
    {
      "cell_type": "markdown",
      "metadata": {
        "id": "9_Q-Fcuo30zY"
      },
      "source": [
        "**місце для текстової відповіді**\n",
        "\n",
        "1.   Я б звернув увагу типи даних. Треба уважно перевіряти чи всі типи даних було визначено правильно.\n",
        "2.   Також я б звернув увагу на аномальні значення, важливо виявити та виправити аномальні значення негативних чисел, таких як: кількість жертв, шахедів.\n",
        "\n",
        "...\n"
      ]
    },
    {
      "cell_type": "markdown",
      "metadata": {
        "id": "Ue9ECz5-3_pq"
      },
      "source": [
        "# V. Data Cleaning"
      ]
    },
    {
      "cell_type": "markdown",
      "metadata": {
        "id": "ZtHUiSrV4CL-"
      },
      "source": [
        "19. Перетворити колонку launched у цілочислену (Int64). Перевірити, чи все пройшло, як очікувалось."
      ]
    },
    {
      "cell_type": "code",
      "execution_count": 22,
      "metadata": {
        "id": "AWyo_-Un3xqz"
      },
      "outputs": [
        {
          "name": "stdout",
          "output_type": "stream",
          "text": [
            "<class 'pandas.core.series.Series'>\n",
            "RangeIndex: 2056 entries, 0 to 2055\n",
            "Series name: launched\n",
            "Non-Null Count  Dtype\n",
            "--------------  -----\n",
            "2053 non-null   Int64\n",
            "dtypes: Int64(1)\n",
            "memory usage: 18.2 KB\n",
            "None\n",
            "0    72\n",
            "1    61\n",
            "2     2\n",
            "3    58\n",
            "4    92\n",
            "Name: launched, dtype: Int64\n"
          ]
        }
      ],
      "source": [
        "df = pd.read_csv('missile_attacks_daily.csv')\n",
        "df['launched'] = pd.to_numeric(df['launched'], errors='coerce').astype('Int64')\n",
        "print(df['launched'].info())\n",
        "print(df['launched'].head())"
      ]
    },
    {
      "cell_type": "code",
      "execution_count": null,
      "metadata": {
        "id": "ys_OfWeQ4OjW"
      },
      "outputs": [],
      "source": [
        "# df['launched'] = pd.to_numeric(df['launched'], errors='coerce').astype('Int64')\n",
        "# Тут я перетворюю стовпець 'launched' на числові значення. Потім цей стовпець приводиться до типу Int64.\n",
        "# (df['launched'].info())\n",
        "# Виконую виведення метаданих для стовпця 'launched', зокрема кількості ненульових значень та їх типу."
      ]
    },
    {
      "cell_type": "markdown",
      "metadata": {
        "id": "KsHhM4EM4O3d"
      },
      "source": [
        "20. Видалити колонки, де кількість непустих значень становить менше 30% від загальної кількості записів."
      ]
    },
    {
      "cell_type": "code",
      "execution_count": 23,
      "metadata": {
        "id": "Z1ZCclle4Vyk"
      },
      "outputs": [
        {
          "name": "stdout",
          "output_type": "stream",
          "text": [
            "Index(['time_start', 'time_end', 'model', 'launch_place', 'target', 'launched',\n",
            "       'destroyed', 'source'],\n",
            "      dtype='object')\n"
          ]
        }
      ],
      "source": [
        "total_rows = len(df)\n",
        "threshold = 0.3 * total_rows\n",
        "df = df.loc[:, df.count() >= threshold]\n",
        "print(df.columns)"
      ]
    },
    {
      "cell_type": "code",
      "execution_count": null,
      "metadata": {
        "id": "MGrORLGe4XA2"
      },
      "outputs": [],
      "source": [
        "# фільтруються стовпці DataFrame, залишаючи тільки ті, де кількість ненульових значень становить не менше 30% від загальної кількості рядків."
      ]
    },
    {
      "cell_type": "markdown",
      "metadata": {
        "id": "p8cD0M0U4cNT"
      },
      "source": [
        "21. Очистити датафрейм від дублікатів (дублюючихся рядків) та записів, де атака продовжувалась відʼємну або нульову кількість часу (що фізично неможливо). Не забудьте оновити індекс. Скільки рядків було видалено? Як ви це перевірили у коді?"
      ]
    },
    {
      "cell_type": "code",
      "execution_count": 24,
      "metadata": {
        "id": "in3Fvn0I4l-I"
      },
      "outputs": [
        {
          "name": "stdout",
          "output_type": "stream",
          "text": [
            "Index(['time_start', 'time_end', 'model', 'launch_place', 'target', 'launched',\n",
            "       'destroyed', 'source'],\n",
            "      dtype='object')\n",
            "duration haven't been found\n",
            "Number of deleted rows: 0\n"
          ]
        }
      ],
      "source": [
        "print(df.columns)\n",
        "initial_row_count = len(df)\n",
        "\n",
        "df = df.drop_duplicates()\n",
        "\n",
        "if 'duration' in df.columns:\n",
        "    \n",
        "    df = df[df['duration'] > 0]\n",
        "else:\n",
        "    print(\"duration haven't been found\")\n",
        "\n",
        "df = df.reset_index(drop=True)\n",
        "\n",
        "deleted_rows = initial_row_count - len(df)\n",
        "\n",
        "print(f\"Number of deleted rows: {deleted_rows}\")\n"
      ]
    },
    {
      "cell_type": "markdown",
      "metadata": {
        "id": "8zqL82Ie4nqY"
      },
      "source": [
        "**місце для текстової відповіді**"
      ]
    },
    {
      "cell_type": "code",
      "execution_count": 25,
      "metadata": {
        "id": "GoHlOjXj4sIw"
      },
      "outputs": [],
      "source": [
        " #Кількість видалених рядків була перевірена шляхом порівняння кількості рядків у датафреймі до і після очищення, було видалено 0 рядків."
      ]
    },
    {
      "cell_type": "markdown",
      "metadata": {
        "id": "6oZ7C_ry4uvb"
      },
      "source": [
        "22. Виведіть на екран всі рядки, де є хоч одне пропущене значення."
      ]
    },
    {
      "cell_type": "code",
      "execution_count": 26,
      "metadata": {
        "id": "BPmCTDtg4wVS"
      },
      "outputs": [
        {
          "name": "stdout",
          "output_type": "stream",
          "text": [
            "            time_start          time_end               model launch_place  \\\n",
            "11          2025-01-20        2025-01-20            Orlan-10          NaN   \n",
            "24          2025-01-15        2025-01-15                ZALA          NaN   \n",
            "25          2025-01-15        2025-01-15            Supercam          NaN   \n",
            "26          2025-01-15        2025-01-15            Orlan-10          NaN   \n",
            "27          2025-01-15        2025-01-15              Lancet          NaN   \n",
            "...                ...               ...                 ...          ...   \n",
            "2051  2022-10-01 12:00  2022-10-01 12:00            Orlan-10          NaN   \n",
            "2052        2022-09-30        2022-09-30            Orlan-10          NaN   \n",
            "2053  2022-09-29 23:00  2022-09-29 23:59      Shahed-136/131          NaN   \n",
            "2054        2022-09-28        2022-09-28                X-59          NaN   \n",
            "2055        2022-09-28        2022-09-28  Reconnaissance UAV          NaN   \n",
            "\n",
            "                                             target  launched  destroyed  \\\n",
            "11                                            south         1          1   \n",
            "24                                            south         2          2   \n",
            "25                                            south         3          3   \n",
            "26                                            south         1          1   \n",
            "27                                            south         7          7   \n",
            "...                                             ...       ...        ...   \n",
            "2051                                        Ukraine         1          1   \n",
            "2052                                        Ukraine         3          3   \n",
            "2053               Odesa oblast and Mykolaiv oblast         7          5   \n",
            "2054  Dnipropetrovsk oblast and Zaporizhzhia oblast         5          4   \n",
            "2055                                        Ukraine         3          3   \n",
            "\n",
            "                                                 source  \n",
            "11    PvKPivden/posts/pfbid02dWKMm24ikGQy11soyUTm9LJ...  \n",
            "24    PvKPivden/posts/pfbid02n3ahJEfrBoAfrFcKRWb68j8...  \n",
            "25    PvKPivden/posts/pfbid02n3ahJEfrBoAfrFcKRWb68j8...  \n",
            "26    PvKPivden/posts/pfbid02n3ahJEfrBoAfrFcKRWb68j8...  \n",
            "27    PvKPivden/posts/pfbid02n3ahJEfrBoAfrFcKRWb68j8...  \n",
            "...                                                 ...  \n",
            "2051                           watch/?v=375517448001233  \n",
            "2052  kpszsu/posts/pfbid0nELeXY4BpHrezv54Lk3gWPZJmcC...  \n",
            "2053  kpszsu/posts/pfbid021aK2TqryAuB8gGrDYMTv3R8Xiu...  \n",
            "2054  kpszsu/posts/pfbid02sjn5m7kosAfsm5bSUzpPwbLuH3...  \n",
            "2055  kpszsu/posts/pfbid0grmBx6A5LbQ7PVTkSx7jTDgg4iU...  \n",
            "\n",
            "[1046 rows x 8 columns]\n"
          ]
        }
      ],
      "source": [
        "print(df[df.isnull().any(axis=1)])\n"
      ]
    },
    {
      "cell_type": "code",
      "execution_count": null,
      "metadata": {},
      "outputs": [],
      "source": [
        "# Код виводить всі рядки DataFrame, які містять хоча б одне пропущене значення.\n"
      ]
    }
  ],
  "metadata": {
    "colab": {
      "collapsed_sections": [
        "dwSyU2AjXwc-"
      ],
      "provenance": []
    },
    "kernelspec": {
      "display_name": "Python 3",
      "name": "python3"
    },
    "language_info": {
      "codemirror_mode": {
        "name": "ipython",
        "version": 3
      },
      "file_extension": ".py",
      "mimetype": "text/x-python",
      "name": "python",
      "nbconvert_exporter": "python",
      "pygments_lexer": "ipython3",
      "version": "3.13.0"
    }
  },
  "nbformat": 4,
  "nbformat_minor": 0
}
